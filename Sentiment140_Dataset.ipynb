{
  "cells": [
    {
      "cell_type": "markdown",
      "metadata": {
        "id": "view-in-github",
        "colab_type": "text"
      },
      "source": [
        "<a href=\"https://colab.research.google.com/github/faiyazabdullah/ML-Research/blob/main/Sentiment140_Dataset.ipynb\" target=\"_parent\"><img src=\"https://colab.research.google.com/assets/colab-badge.svg\" alt=\"Open In Colab\"/></a>"
      ]
    },
    {
      "cell_type": "code",
      "execution_count": null,
      "metadata": {
        "id": "sI0UWzzqUX2i"
      },
      "outputs": [],
      "source": [
        "import numpy as np\n",
        "from sklearn.model_selection import train_test_split\n",
        "from sklearn.feature_extraction.text import CountVectorizer\n",
        "from sklearn.naive_bayes import MultinomialNB\n",
        "from sklearn.tree import DecisionTreeClassifier\n",
        "from sklearn.ensemble import RandomForestClassifier\n",
        "from sklearn.metrics import accuracy_score\n",
        "import pandas as pd\n",
        "from sklearn.feature_extraction.text import CountVectorizer\n",
        "from sklearn.model_selection import train_test_split\n",
        "from sklearn.model_selection import cross_val_score\n",
        "from sklearn.model_selection import KFold\n",
        "from sklearn.base import BaseEstimator"
      ]
    },
    {
      "cell_type": "code",
      "execution_count": null,
      "metadata": {
        "id": "dIREtwE7UX2j"
      },
      "outputs": [],
      "source": [
        "# Load the Sentiment140 dataset (Adjust the file path accordingly)\n",
        "data = pd.read_csv(\"/content/training.1600000.processed.noemoticon.csv\", encoding='latin-1', on_bad_lines='skip')\n",
        "\n",
        "data.columns = ['sentiment', 'id', 'date', 'query', 'user', 'text']\n",
        "\n",
        "# Selecting a subset of the data due to computational constraints\n",
        "data = data.sample(frac=0.1, random_state=42)\n",
        "\n",
        "# Convert the sentiment values: 0 for negative, 1 for positive\n",
        "data['sentiment'] = data['sentiment'].apply(lambda x: 1 if x == 4 else 0) # assumes that the neutral sentiments are part of the negative sentiments\n",
        "\n",
        "# Split the data into training and testing sets\n",
        "X_train, X_test, y_train, y_test = train_test_split(data['text'], data['sentiment'], test_size=0.2, random_state=42)\n",
        "\n",
        "# Tokenization and feature extraction using CountVectorizer\n",
        "vectorizer = CountVectorizer(stop_words='english')  # Remove common English words\n",
        "X_train_counts = vectorizer.fit_transform(X_train)\n",
        "X_test_counts = vectorizer.transform(X_test)\n",
        "\n",
        "# Now, X_train_counts and X_test_counts contain the tokenized and transformed data\n",
        "# These matrices can be used as input for machine learning algorithms"
      ]
    },
    {
      "cell_type": "markdown",
      "source": [
        "# **For Raw Dataset**"
      ],
      "metadata": {
        "id": "fnqFohbtBsut"
      }
    },
    {
      "cell_type": "code",
      "source": [
        "# Select a subset of 1000 instances using iloc\n",
        "subset_size = 1000\n",
        "subset_data = data.iloc[:subset_size]\n",
        "\n",
        "# Split the subset data into training and testing sets\n",
        "X_train, X_test, y_train, y_test = train_test_split(subset_data['text'], subset_data['sentiment'], test_size=0.2, random_state=42)\n",
        "\n",
        "# Tokenization and feature extraction using CountVectorizer\n",
        "vectorizer = CountVectorizer(stop_words='english')  # Remove common English words\n",
        "X_train_counts = vectorizer.fit_transform(X_train)\n",
        "X_test_counts = vectorizer.transform(X_test)\n",
        "\n",
        "# Train Naive Bayes classifier\n",
        "naive_bayes_classifier = MultinomialNB()\n",
        "naive_bayes_classifier.fit(X_train_counts, y_train)\n",
        "\n",
        "# Predict using Naive Bayes for training and test data\n",
        "naive_bayes_train_predictions = naive_bayes_classifier.predict(X_train_counts)\n",
        "naive_bayes_test_predictions = naive_bayes_classifier.predict(X_test_counts)\n",
        "\n",
        "# Calculate accuracy for Naive Bayes\n",
        "accuracy_nb_train = accuracy_score(y_train, naive_bayes_train_predictions)\n",
        "accuracy_nb_test = accuracy_score(y_test, naive_bayes_test_predictions)\n",
        "\n",
        "print(\"Naive Bayes Training Accuracy:\", accuracy_nb_train)\n",
        "print(\"Naive Bayes Test Accuracy:\", accuracy_nb_test)\n",
        "\n",
        "# Train Decision Tree classifier\n",
        "decision_tree_classifier = DecisionTreeClassifier(max_depth=5)\n",
        "decision_tree_classifier.fit(X_train_counts, y_train)\n",
        "\n",
        "# Predict using Decision Tree for training and test data\n",
        "decision_tree_train_predictions = decision_tree_classifier.predict(X_train_counts)\n",
        "decision_tree_test_predictions = decision_tree_classifier.predict(X_test_counts)\n",
        "\n",
        "# Calculate accuracy for Decision Tree\n",
        "accuracy_dt_train = accuracy_score(y_train, decision_tree_train_predictions)\n",
        "accuracy_dt_test = accuracy_score(y_test, decision_tree_test_predictions)\n",
        "\n",
        "print(\"Decision Tree Training Accuracy:\", accuracy_dt_train)\n",
        "print(\"Decision Tree Test Accuracy:\", accuracy_dt_test)\n",
        "\n",
        "# Train Random Forest classifier\n",
        "random_forest_classifier = RandomForestClassifier(n_estimators=100, random_state=42)\n",
        "random_forest_classifier.fit(X_train_counts, y_train)\n",
        "\n",
        "# Predict using Random Forest for training and test data\n",
        "random_forest_train_predictions = random_forest_classifier.predict(X_train_counts)\n",
        "random_forest_test_predictions = random_forest_classifier.predict(X_test_counts)\n",
        "\n",
        "# Calculate accuracy for Random Forest\n",
        "accuracy_rf_train = accuracy_score(y_train, random_forest_train_predictions)\n",
        "accuracy_rf_test = accuracy_score(y_test, random_forest_test_predictions)\n",
        "\n",
        "print(\"Random Forest Training Accuracy:\", accuracy_rf_train)\n",
        "print(\"Random Forest Test Accuracy:\", accuracy_rf_test)\n",
        "\n",
        "# Combine predictions using weighted averaging for Ensemble Learning\n",
        "weight_naive_bayes = 0.10\n",
        "weight_random_forest = 0.90\n",
        "\n",
        "# Get class probabilities predicted by Naive Bayes\n",
        "naive_bayes_train_probabilities = naive_bayes_classifier.predict_proba(X_train_counts)[:, 1]\n",
        "naive_bayes_test_probabilities = naive_bayes_classifier.predict_proba(X_test_counts)[:, 1]\n",
        "\n",
        "# Combine predictions using weighted averaging\n",
        "ensemble_train_spam_prob = (weight_naive_bayes * naive_bayes_train_probabilities +\n",
        "                            weight_random_forest * random_forest_train_predictions)\n",
        "\n",
        "ensemble_test_spam_prob = (weight_naive_bayes * naive_bayes_test_probabilities +\n",
        "                           weight_random_forest * random_forest_test_predictions)\n",
        "\n",
        "# Threshold probabilities to get binary predictions (0 or 1)\n",
        "threshold = 0.5\n",
        "ensemble_train_predictions = (ensemble_train_spam_prob > threshold).astype(int)\n",
        "ensemble_test_predictions = (ensemble_test_spam_prob > threshold).astype(int)\n",
        "\n",
        "# Calculate accuracy for the ensemble model\n",
        "accuracy_ensemble_train = accuracy_score(y_train, ensemble_train_predictions)\n",
        "accuracy_ensemble_test = accuracy_score(y_test, ensemble_test_predictions)\n",
        "\n",
        "print(\"Ensemble Training Accuracy:\", accuracy_ensemble_train)\n",
        "print(\"Ensemble Test Accuracy:\", accuracy_ensemble_test)"
      ],
      "metadata": {
        "colab": {
          "base_uri": "https://localhost:8080/"
        },
        "id": "5YtJMaMX_C5X",
        "outputId": "f0fbfc45-407d-40c8-e7f9-5642bf57387f"
      },
      "execution_count": null,
      "outputs": [
        {
          "output_type": "stream",
          "name": "stdout",
          "text": [
            "Naive Bayes Training Accuracy: 0.97125\n",
            "Naive Bayes Test Accuracy: 0.76\n",
            "Decision Tree Training Accuracy: 0.80875\n",
            "Decision Tree Test Accuracy: 0.725\n",
            "Random Forest Training Accuracy: 1.0\n",
            "Random Forest Test Accuracy: 0.765\n",
            "Ensemble Training Accuracy: 1.0\n",
            "Ensemble Test Accuracy: 0.765\n"
          ]
        }
      ]
    },
    {
      "cell_type": "markdown",
      "metadata": {
        "id": "glsZLkvsUX2m"
      },
      "source": [
        "# **Creating enhanced dataset with N.B probabilities**"
      ]
    },
    {
      "cell_type": "code",
      "execution_count": null,
      "metadata": {
        "id": "1sVQzNAaUX2m"
      },
      "outputs": [],
      "source": [
        "# Get class probabilities predicted by Naive Bayes\n",
        "naive_bayes_probabilities = naive_bayes_classifier.predict_proba(X_train_counts)\n",
        "\n",
        "# Select a smaller subset of the data\n",
        "subset_size = 1000\n",
        "X_train_counts_subset = X_train_counts[:subset_size]\n",
        "X_test_counts_subset = X_test_counts[:subset_size]\n",
        "\n",
        "# Add Naive Bayes probabilities as new features to the original dataset\n",
        "X_train_enriched = np.hstack((X_train_counts_subset.toarray(), naive_bayes_probabilities[:subset_size]))\n",
        "\n",
        "# Transform test data and add Naive Bayes probabilities as features\n",
        "X_test_enriched = np.hstack((X_test_counts_subset.toarray(), naive_bayes_classifier.predict_proba(X_test_counts_subset)))"
      ]
    },
    {
      "cell_type": "markdown",
      "metadata": {
        "id": "a7o6y59qUX2m"
      },
      "source": [
        "# **N.B with Enriched dataset**"
      ]
    },
    {
      "cell_type": "code",
      "execution_count": null,
      "metadata": {
        "colab": {
          "base_uri": "https://localhost:8080/"
        },
        "id": "D5Jejei3UX2m",
        "outputId": "a102da87-8077-4aa1-c486-ef48a73305d7"
      },
      "outputs": [
        {
          "output_type": "stream",
          "name": "stdout",
          "text": [
            "Naive Bayes with Enriched dataset Training Accuracy: 0.97125\n",
            "Naive Bayes with Enriched dataset Test Accuracy: 0.76\n"
          ]
        }
      ],
      "source": [
        "# Select the first 1000 samples of y_train\n",
        "y_train_subset = y_train.iloc[:1000]\n",
        "\n",
        "# Select the first 1000 samples of y_test\n",
        "y_test_subset = y_test.iloc[:1000]\n",
        "\n",
        "# Train Naive Bayes classifier on the sparse features\n",
        "naive_bayes_classifier_ev = MultinomialNB() # ev stands for enriched vector\n",
        "naive_bayes_classifier_ev.fit(X_train_enriched, y_train_subset)\n",
        "\n",
        "# Predict using Naive Bayes for training and test data\n",
        "naive_bayes_ev_train_predictions = naive_bayes_classifier_ev.predict(X_train_enriched)\n",
        "naive_bayes_ev_test_predictions = naive_bayes_classifier_ev.predict(X_test_enriched)\n",
        "\n",
        "# Calculate accuracy for Naive Bayes\n",
        "accuracy_nb_train = accuracy_score(y_train_subset, naive_bayes_ev_train_predictions)\n",
        "accuracy_nb_test = accuracy_score(y_test_subset, naive_bayes_ev_test_predictions)\n",
        "\n",
        "print(\"Naive Bayes with Enriched dataset Training Accuracy:\", accuracy_nb_train)\n",
        "print(\"Naive Bayes with Enriched dataset Test Accuracy:\", accuracy_nb_test)"
      ]
    },
    {
      "cell_type": "markdown",
      "metadata": {
        "id": "xrlNluHHUX2m"
      },
      "source": [
        "# **Decision Tree with Enriched dataset**"
      ]
    },
    {
      "cell_type": "code",
      "execution_count": null,
      "metadata": {
        "colab": {
          "base_uri": "https://localhost:8080/"
        },
        "id": "coNBmXimUX2n",
        "outputId": "57d6d1c4-57aa-48fa-ee17-f4817973880d"
      },
      "outputs": [
        {
          "output_type": "stream",
          "name": "stdout",
          "text": [
            "Decision Tree Training Accuracy: 0.98875\n",
            "Decision Tree Test Accuracy: 0.73\n"
          ]
        }
      ],
      "source": [
        "decision_tree_classifier = DecisionTreeClassifier(max_depth=5)\n",
        "\n",
        "decision_tree_classifier.fit(X_train_enriched, y_train_subset)\n",
        "\n",
        "#Predict using Decision Tree for training and test data\n",
        "decision_tree_train_predictions = decision_tree_classifier.predict(X_train_enriched)\n",
        "decision_tree_test_predictions = decision_tree_classifier.predict(X_test_enriched)\n",
        "\n",
        "# Calculate accuracy for Decision Tree\n",
        "accuracy_dt_train = accuracy_score(y_train_subset, decision_tree_train_predictions)\n",
        "accuracy_dt_test = accuracy_score(y_test_subset, decision_tree_test_predictions)\n",
        "\n",
        "print(\"Decision Tree Training Accuracy:\", accuracy_dt_train)\n",
        "print(\"Decision Tree Test Accuracy:\", accuracy_dt_test)"
      ]
    },
    {
      "cell_type": "markdown",
      "metadata": {
        "id": "70LSSyLQUX2n"
      },
      "source": [
        "# **Random Forest with Enriched dataset**"
      ]
    },
    {
      "cell_type": "code",
      "execution_count": null,
      "metadata": {
        "colab": {
          "base_uri": "https://localhost:8080/"
        },
        "id": "XfWJY1V5UX2n",
        "outputId": "a59a3cca-4ff4-4d95-ba68-de00a00b95fa"
      },
      "outputs": [
        {
          "output_type": "stream",
          "name": "stdout",
          "text": [
            "Random Forest Training Accuracy: 1.0\n",
            "Random Forest Test Accuracy: 0.75\n"
          ]
        }
      ],
      "source": [
        "# Train Random Forest on the enriched dataset\n",
        "random_forest_classifier = RandomForestClassifier(n_estimators=100, random_state=42)\n",
        "\n",
        "random_forest_classifier.fit(X_train_enriched, y_train_subset)\n",
        "\n",
        "# Predict using the Random Forest model\n",
        "random_forest_train_predictions = random_forest_classifier.predict(X_train_enriched)\n",
        "random_forest_test_predictions = random_forest_classifier.predict(X_test_enriched)\n",
        "\n",
        "# Calculate accuracy for Random Forest\n",
        "accuracy_rf_train = accuracy_score(y_train_subset, random_forest_train_predictions)\n",
        "accuracy_rf_test = accuracy_score(y_test_subset, random_forest_test_predictions)\n",
        "\n",
        "print(\"Random Forest Training Accuracy:\", accuracy_rf_train)\n",
        "print(\"Random Forest Test Accuracy:\", accuracy_rf_test)"
      ]
    },
    {
      "cell_type": "markdown",
      "metadata": {
        "id": "8EhdnnAJUX2n"
      },
      "source": [
        "# **Ensemble Learning**"
      ]
    },
    {
      "cell_type": "code",
      "execution_count": null,
      "metadata": {
        "colab": {
          "base_uri": "https://localhost:8080/"
        },
        "id": "Lw1NPOJwUX2n",
        "outputId": "cc28479a-92ae-46c8-c962-f908a4902f11"
      },
      "outputs": [
        {
          "output_type": "stream",
          "name": "stdout",
          "text": [
            "Ensemble Training Accuracy: 1.0\n",
            "Ensemble Test Accuracy: 0.75\n"
          ]
        }
      ],
      "source": [
        "# Predict probabilities using Naive Bayes for training and test data\n",
        "naive_bayes_train_probabilities = naive_bayes_classifier.predict_proba(X_train_counts)\n",
        "naive_bayes_test_probabilities = naive_bayes_classifier.predict_proba(X_test_counts)\n",
        "\n",
        "# Extract probabilities for the positive class (spam)\n",
        "naive_bayes_train_spam_prob = naive_bayes_train_probabilities[:, 1]\n",
        "naive_bayes_test_spam_prob = naive_bayes_test_probabilities[:, 1]\n",
        "\n",
        "# Predict probabilities using Random Forest for training and test data\n",
        "random_forest_train_probabilities = random_forest_classifier.predict_proba(X_train_enriched)\n",
        "random_forest_test_probabilities = random_forest_classifier.predict_proba(X_test_enriched)\n",
        "\n",
        "# Extract probabilities for the positive class (spam)\n",
        "random_forest_train_spam_prob = random_forest_train_probabilities[:, 1]\n",
        "random_forest_test_spam_prob = random_forest_test_probabilities[:, 1]\n",
        "\n",
        "#Select a smaller subset to match the size of the naive bayes probabilities\n",
        "subset_size = 1000\n",
        "random_forest_train_spam_prob_subset = random_forest_train_spam_prob[:subset_size]\n",
        "random_forest_test_spam_prob_subset = random_forest_test_spam_prob[:subset_size]\n",
        "\n",
        "naive_bayes_train_spam_prob_subset = naive_bayes_train_spam_prob[:subset_size]\n",
        "naive_bayes_test_spam_prob_subset = naive_bayes_test_spam_prob[:subset_size]\n",
        "\n",
        "# Combine predictions using weighted averaging\n",
        "weight_naive_bayes = 0.10\n",
        "weight_random_forest = 0.90\n",
        "\n",
        "# Ensemble predictions for training data\n",
        "ensemble_train_spam_prob = (weight_naive_bayes * naive_bayes_train_spam_prob_subset +\n",
        "                            weight_random_forest * random_forest_train_spam_prob_subset)\n",
        "\n",
        "# Ensemble predictions for test data\n",
        "ensemble_test_spam_prob = (weight_naive_bayes * naive_bayes_test_spam_prob_subset +\n",
        "                           weight_random_forest * random_forest_test_spam_prob_subset)\n",
        "\n",
        "# Threshold probabilities to get binary predictions (0 or 1)\n",
        "threshold = 0.5\n",
        "ensemble_train_predictions = (ensemble_train_spam_prob > threshold).astype(int)\n",
        "ensemble_test_predictions = (ensemble_test_spam_prob > threshold).astype(int)\n",
        "\n",
        "# Calculate accuracy for the ensemble model\n",
        "accuracy_ensemble_train = accuracy_score(y_train_subset, ensemble_train_predictions)\n",
        "accuracy_ensemble_test = accuracy_score(y_test_subset, ensemble_test_predictions)\n",
        "\n",
        "print(\"Ensemble Training Accuracy:\", accuracy_ensemble_train)\n",
        "print(\"Ensemble Test Accuracy:\", accuracy_ensemble_test)"
      ]
    },
    {
      "cell_type": "markdown",
      "source": [
        "# **Confusion Matrix and Classification Report**\n",
        "Confusion Matrix summarizes the performance of a machine learning model on a set of test data. And Classification Report summarizes different evaluation metrics like precision, recall, F1-score, and support for each class."
      ],
      "metadata": {
        "id": "7pNu5yMFBPM9"
      }
    },
    {
      "cell_type": "code",
      "source": [
        "from sklearn.metrics import confusion_matrix, classification_report\n",
        "import seaborn as sns\n",
        "import matplotlib.pyplot as plt\n",
        "\n",
        "# Confusion Matrix and Classification Report for Naive Bayes Classifier\n",
        "print(\"Naive Bayes Classifier:\")\n",
        "cm_nb = confusion_matrix(y_test_subset, naive_bayes_ev_test_predictions)\n",
        "sns.heatmap(cm_nb, annot=True, fmt='g', cmap='Blues')\n",
        "plt.xlabel('Predicted')\n",
        "plt.ylabel('Actual')\n",
        "plt.title('Confusion Matrix - Naive Bayes')\n",
        "plt.show()\n",
        "\n",
        "print(\"Classification Report - Naive Bayes:\")\n",
        "print(classification_report(y_test_subset, naive_bayes_ev_test_predictions))\n",
        "\n",
        "# Confusion Matrix and Classification Report for Decision Tree Classifier\n",
        "print(\"Decision Tree Classifier:\")\n",
        "cm_dt = confusion_matrix(y_test_subset, decision_tree_test_predictions)\n",
        "sns.heatmap(cm_dt, annot=True, fmt='g', cmap='Blues')\n",
        "plt.xlabel('Predicted')\n",
        "plt.ylabel('Actual')\n",
        "plt.title('Confusion Matrix - Decision Tree')\n",
        "plt.show()\n",
        "\n",
        "print(\"Classification Report - Decision Tree:\")\n",
        "print(classification_report(y_test_subset, decision_tree_test_predictions))\n",
        "\n",
        "# Confusion Matrix and Classification Report for Random Forest Classifier\n",
        "print(\"Random Forest Classifier:\")\n",
        "cm_rf = confusion_matrix(y_test_subset, random_forest_test_predictions)\n",
        "sns.heatmap(cm_rf, annot=True, fmt='g', cmap='Blues')\n",
        "plt.xlabel('Predicted')\n",
        "plt.ylabel('Actual')\n",
        "plt.title('Confusion Matrix - Random Forest')\n",
        "plt.show()\n",
        "\n",
        "print(\"Classification Report - Random Forest:\")\n",
        "print(classification_report(y_test_subset, random_forest_test_predictions))\n",
        "\n",
        "# Confusion Matrix and Classification Report for Ensemble Learning\n",
        "print(\"Ensemble Learning:\")\n",
        "cm_ensemble = confusion_matrix(y_test_subset, ensemble_test_predictions)\n",
        "sns.heatmap(cm_ensemble, annot=True, fmt='g', cmap='Blues')\n",
        "plt.xlabel('Predicted')\n",
        "plt.ylabel('Actual')\n",
        "plt.title('Confusion Matrix - Ensemble Learning')\n",
        "plt.show()\n",
        "\n",
        "print(\"Classification Report - Ensemble Learning:\")\n",
        "print(classification_report(y_test_subset, ensemble_test_predictions))"
      ],
      "metadata": {
        "colab": {
          "base_uri": "https://localhost:8080/",
          "height": 1000
        },
        "id": "LiBrKpZBBUhX",
        "outputId": "ef84f273-ef13-47fc-a150-b4f36f70cfc8"
      },
      "execution_count": null,
      "outputs": [
        {
          "output_type": "stream",
          "name": "stdout",
          "text": [
            "Naive Bayes Classifier:\n"
          ]
        },
        {
          "output_type": "display_data",
          "data": {
            "text/plain": [
              "<Figure size 640x480 with 2 Axes>"
            ],
            "image/png": "[encoded data removed]"
          },
          "metadata": {}
        },
        {
          "output_type": "stream",
          "name": "stdout",
          "text": [
            "Classification Report - Naive Bayes:\n",
            "              precision    recall  f1-score   support\n",
            "\n",
            "           0       0.77      0.96      0.86       148\n",
            "           1       0.62      0.19      0.29        52\n",
            "\n",
            "    accuracy                           0.76       200\n",
            "   macro avg       0.70      0.58      0.57       200\n",
            "weighted avg       0.73      0.76      0.71       200\n",
            "\n",
            "Decision Tree Classifier:\n"
          ]
        },
        {
          "output_type": "display_data",
          "data": {
            "text/plain": [
              "<Figure size 640x480 with 2 Axes>"
            ],
            "image/png": "[encoded data removed]"
          },
          "metadata": {}
        },
        {
          "output_type": "stream",
          "name": "stdout",
          "text": [
            "Classification Report - Decision Tree:\n",
            "              precision    recall  f1-score   support\n",
            "\n",
            "           0       0.77      0.90      0.83       148\n",
            "           1       0.46      0.25      0.33        52\n",
            "\n",
            "    accuracy                           0.73       200\n",
            "   macro avg       0.62      0.57      0.58       200\n",
            "weighted avg       0.69      0.73      0.70       200\n",
            "\n",
            "Random Forest Classifier:\n"
          ]
        },
        {
          "output_type": "display_data",
          "data": {
            "text/plain": [
              "<Figure size 640x480 with 2 Axes>"
            ],
            "image/png": "[encoded data removed]"
          },
          "metadata": {}
        },
        {
          "output_type": "stream",
          "name": "stdout",
          "text": [
            "Classification Report - Random Forest:\n",
            "              precision    recall  f1-score   support\n",
            "\n",
            "           0       0.77      0.94      0.85       148\n",
            "           1       0.55      0.21      0.31        52\n",
            "\n",
            "    accuracy                           0.75       200\n",
            "   macro avg       0.66      0.58      0.58       200\n",
            "weighted avg       0.71      0.75      0.71       200\n",
            "\n",
            "Ensemble Learning:\n"
          ]
        },
        {
          "output_type": "display_data",
          "data": {
            "text/plain": [
              "<Figure size 640x480 with 2 Axes>"
            ],
            "image/png": "[encoded data removed]"
          },
          "metadata": {}
        },
        {
          "output_type": "stream",
          "name": "stdout",
          "text": [
            "Classification Report - Ensemble Learning:\n",
            "              precision    recall  f1-score   support\n",
            "\n",
            "           0       0.77      0.94      0.85       148\n",
            "           1       0.55      0.21      0.31        52\n",
            "\n",
            "    accuracy                           0.75       200\n",
            "   macro avg       0.66      0.58      0.58       200\n",
            "weighted avg       0.71      0.75      0.71       200\n",
            "\n"
          ]
        }
      ]
    },
    {
      "cell_type": "markdown",
      "source": [
        "# **10-fold cross validation**"
      ],
      "metadata": {
        "id": "ggC_rK_tCXhE"
      }
    },
    {
      "cell_type": "code",
      "source": [
        "# Create a KFold object for 10-fold cross-validation\n",
        "kf = KFold(n_splits=10, shuffle=True, random_state=42)\n",
        "\n",
        "# Naive Bayes classifier\n",
        "naive_bayes_classifier = MultinomialNB()\n",
        "nb_scores = cross_val_score(naive_bayes_classifier, X_train_counts, y_train, cv=kf, scoring='accuracy')\n",
        "\n",
        "print(\"Naive Bayes Cross-Validation Scores:\", nb_scores)\n",
        "print(\"Mean Naive Bayes Cross-Validation Accuracy:\", np.mean(nb_scores))\n",
        "\n",
        "# Decision Tree classifier\n",
        "decision_tree_classifier = DecisionTreeClassifier(max_depth=5)\n",
        "dt_scores = cross_val_score(decision_tree_classifier, X_train_counts, y_train, cv=kf, scoring='accuracy')\n",
        "\n",
        "print(\"Decision Tree Cross-Validation Scores:\", dt_scores)\n",
        "print(\"Mean Decision Tree Cross-Validation Accuracy:\", np.mean(dt_scores))\n",
        "\n",
        "# Random Forest classifier\n",
        "random_forest_classifier = RandomForestClassifier(n_estimators=100, random_state=42)\n",
        "rf_scores = cross_val_score(random_forest_classifier, X_train_counts, y_train, cv=kf, scoring='accuracy')\n",
        "\n",
        "print(\"Random Forest Cross-Validation Scores:\", rf_scores)\n",
        "print(\"Mean Random Forest Cross-Validation Accuracy:\", np.mean(rf_scores))\n",
        "\n",
        "# Ensemble Learning\n",
        "class EnsembleClassifier(BaseEstimator):\n",
        "    def __init__(self, nb_weight=0.1, rf_weight=0.9):\n",
        "        self.nb_weight = nb_weight\n",
        "        self.rf_weight = rf_weight\n",
        "\n",
        "    def fit(self, X, y):\n",
        "        # Train Naive Bayes classifier\n",
        "        self.nb_classifier = MultinomialNB()\n",
        "        self.nb_classifier.fit(X, y)\n",
        "\n",
        "        # Train Random Forest Classifier\n",
        "        self.rf_classifier = RandomForestClassifier(n_estimators=100, random_state=42)\n",
        "        self.rf_classifier.fit(X, y)\n",
        "\n",
        "    def predict(self, X):\n",
        "        # Get Naive Bayes probabilities for the input data\n",
        "        nb_probabilities = self.nb_classifier.predict_proba(X)[:, 1]\n",
        "\n",
        "        # Get Random Forest predictions for the input data\n",
        "        rf_predictions = self.rf_classifier.predict(X)\n",
        "\n",
        "        # Combine Naive Bayes probabilities and Random Forest predictions using weighted averaging\n",
        "        ensemble_predictions = (\n",
        "            self.nb_weight * nb_probabilities +\n",
        "            self.rf_weight * rf_predictions\n",
        "        )\n",
        "\n",
        "        # Threshold probabilities to get binary predictions (0 or 1)\n",
        "        threshold = 0.5\n",
        "        binary_predictions = (ensemble_predictions > threshold).astype(int)\n",
        "        return binary_predictions\n",
        "\n",
        "ensemble_classifier = EnsembleClassifier()\n",
        "ensemble_scores = cross_val_score(ensemble_classifier, X_train_counts, y_train, cv=kf, scoring='accuracy')\n",
        "\n",
        "print(\"Ensemble Learning Cross-Validation Scores:\", ensemble_scores)\n",
        "print(\"Mean Ensemble Learning Cross-Validation Accuracy:\", np.mean(ensemble_scores))"
      ],
      "metadata": {
        "colab": {
          "base_uri": "https://localhost:8080/"
        },
        "id": "cTE7BTdKCOaE",
        "outputId": "f48c909a-d6a8-4e3e-ac48-1156f1d631b5"
      },
      "execution_count": null,
      "outputs": [
        {
          "output_type": "stream",
          "name": "stdout",
          "text": [
            "Naive Bayes Cross-Validation Scores: [0.675  0.675  0.75   0.75   0.7875 0.7625 0.65   0.775  0.7375 0.7625]\n",
            "Mean Naive Bayes Cross-Validation Accuracy: 0.7324999999999999\n",
            "Decision Tree Cross-Validation Scores: [0.7    0.7625 0.8125 0.875  0.75   0.725  0.8    0.75   0.825  0.825 ]\n",
            "Mean Decision Tree Cross-Validation Accuracy: 0.7825000000000001\n",
            "Random Forest Cross-Validation Scores: [0.725  0.7875 0.8375 0.8875 0.75   0.7125 0.775  0.7375 0.8375 0.8125]\n",
            "Mean Random Forest Cross-Validation Accuracy: 0.7862500000000001\n",
            "Ensemble Learning Cross-Validation Scores: [0.725  0.7875 0.8375 0.8875 0.75   0.7125 0.775  0.7375 0.8375 0.8125]\n",
            "Mean Ensemble Learning Cross-Validation Accuracy: 0.7862500000000001\n"
          ]
        }
      ]
    }
  ],
  "metadata": {
    "kernelspec": {
      "display_name": "vspyenv",
      "language": "python",
      "name": "python3"
    },
    "language_info": {
      "codemirror_mode": {
        "name": "ipython",
        "version": 3
      },
      "file_extension": ".py",
      "mimetype": "text/x-python",
      "name": "python",
      "nbconvert_exporter": "python",
      "pygments_lexer": "ipython3",
      "version": "3.10.4"
    },
    "colab": {
      "provenance": [],
      "include_colab_link": true
    }
  },
  "nbformat": 4,
  "nbformat_minor": 0
}
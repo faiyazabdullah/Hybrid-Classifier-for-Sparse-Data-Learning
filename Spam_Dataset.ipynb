{
  "nbformat": 4,
  "nbformat_minor": 0,
  "metadata": {
    "colab": {
      "provenance": [],
      "authorship_tag": "ABX9TyNHiKSm7vDD5QMkq8Wismyj",
      "include_colab_link": true
    },
    "kernelspec": {
      "name": "python3",
      "display_name": "Python 3"
    },
    "language_info": {
      "name": "python"
    }
  },
  "cells": [
    {
      "cell_type": "markdown",
      "metadata": {
        "id": "view-in-github",
        "colab_type": "text"
      },
      "source": [
        "<a href=\"https://colab.research.google.com/github/faiyazabdullah/ML-Research/blob/main/Spam_Dataset.ipynb\" target=\"_parent\"><img src=\"https://colab.research.google.com/assets/colab-badge.svg\" alt=\"Open In Colab\"/></a>"
      ]
    },
    {
      "cell_type": "markdown",
      "source": [
        "# **Import Libraries**"
      ],
      "metadata": {
        "id": "NKX-_3jlTxSy"
      }
    },
    {
      "cell_type": "code",
      "execution_count": null,
      "metadata": {
        "id": "OJP7VXqK59Qw"
      },
      "outputs": [],
      "source": [
        "import numpy as np\n",
        "from sklearn.model_selection import train_test_split\n",
        "from sklearn.feature_extraction.text import CountVectorizer\n",
        "from sklearn.naive_bayes import MultinomialNB\n",
        "from sklearn.ensemble import RandomForestClassifier\n",
        "from sklearn.metrics import accuracy_score\n",
        "import pandas as pd\n",
        "from sklearn.feature_extraction.text import CountVectorizer\n",
        "from sklearn.model_selection import train_test_split\n",
        "import seaborn as sns\n",
        "import matplotlib.pyplot as plt\n",
        "from sklearn.metrics import confusion_matrix\n",
        "from sklearn.metrics import classification_report\n",
        "from sklearn.metrics import precision_recall_curve, average_precision_score\n",
        "from sklearn.metrics import roc_curve, roc_auc_score\n",
        "import matplotlib.pyplot as plt\n",
        "from sklearn.tree import DecisionTreeClassifier\n",
        "from sklearn.model_selection import cross_val_score, KFold\n",
        "from sklearn.ensemble import VotingClassifier"
      ]
    },
    {
      "cell_type": "markdown",
      "source": [
        "# **Data Preprocessing**"
      ],
      "metadata": {
        "id": "dk_FLFaOUIt7"
      }
    },
    {
      "cell_type": "code",
      "source": [
        "# Load the dataset\n",
        "data = pd.read_csv(\"/content/spam.csv\", encoding='latin-1')\n",
        "\n",
        "# Select relevant columns\n",
        "data = data[['v1', 'v2']]\n",
        "# Rename columns for clarity\n",
        "data.columns = ['label', 'text']\n",
        "\n",
        "# Convert labels to binary (0 for ham, 1 for spam)\n",
        "data['label'] = data['label'].apply(lambda x: 1 if x.lower() == 'spam' else 0)\n",
        "\n",
        "# Split the data into training and testing sets\n",
        "X_train, X_test, y_train, y_test = train_test_split(data['text'], data['label'], test_size=0.2, random_state=42)\n",
        "\n",
        "# Tokenization and feature extraction using CountVectorizer\n",
        "vectorizer = CountVectorizer(stop_words='english')  # Remove common English words\n",
        "X_train_counts = vectorizer.fit_transform(X_train)\n",
        "X_test_counts = vectorizer.transform(X_test)\n",
        "\n",
        "# Now, X_train_counts and X_test_counts contain the tokenized and transformed data\n",
        "# These matrices can be used as input for machine learning algorithms"
      ],
      "metadata": {
        "id": "Emhu-4tQqV4A",
        "colab": {
          "base_uri": "https://localhost:8080/"
        },
        "outputId": "4f2469b9-9271-4308-b779-03744f929e77"
      },
      "execution_count": null,
      "outputs": [
        {
          "output_type": "stream",
          "name": "stderr",
          "text": [
            "<ipython-input-3-e73d1349073d>:10: SettingWithCopyWarning: \n",
            "A value is trying to be set on a copy of a slice from a DataFrame.\n",
            "Try using .loc[row_indexer,col_indexer] = value instead\n",
            "\n",
            "See the caveats in the documentation: https://pandas.pydata.org/pandas-docs/stable/user_guide/indexing.html#returning-a-view-versus-a-copy\n",
            "  data['label'] = data['label'].apply(lambda x: 1 if x.lower() == 'spam' else 0)\n"
          ]
        }
      ]
    },
    {
      "cell_type": "markdown",
      "source": [
        "# **Data Presentation**"
      ],
      "metadata": {
        "id": "fi8YDz4qDbRt"
      }
    },
    {
      "cell_type": "code",
      "source": [
        "# Explore the dataset\n",
        "print(\"Dataset Info:\")\n",
        "print(data.info())\n",
        "\n",
        "# Check class distribution\n",
        "label_counts = data['label'].value_counts()\n",
        "print(\"\\nClass Distribution:\")\n",
        "print(label_counts)\n",
        "\n",
        "# Visualize class distribution\n",
        "plt.figure(figsize=(6, 6))\n",
        "label_counts.plot(kind='bar', color=['skyblue', 'orange'])\n",
        "plt.title(\"Class Distribution\")\n",
        "plt.xlabel(\"Class\")\n",
        "plt.ylabel(\"Count\")\n",
        "plt.xticks([0, 1], ['Ham', 'Spam'], rotation=0)\n",
        "plt.show()\n",
        "\n",
        "# Sample text messages\n",
        "print(\"\\nSample Text Messages:\")\n",
        "print(data['text'].head())\n",
        "\n",
        "# Word count distribution\n",
        "data['word_count'] = data['text'].apply(lambda x: len(str(x).split()))\n",
        "plt.figure(figsize=(8, 6))\n",
        "plt.hist(data['word_count'], bins=50, color='skyblue', edgecolor='black')\n",
        "plt.title(\"Word Count Distribution\")\n",
        "plt.xlabel(\"Number of Words\")\n",
        "plt.ylabel(\"Frequency\")\n",
        "plt.show()"
      ],
      "metadata": {
        "colab": {
          "base_uri": "https://localhost:8080/",
          "height": 1000
        },
        "id": "0WBIgUZRDeuU",
        "outputId": "c5b5d00d-0f62-4713-8e21-96c81014b80c"
      },
      "execution_count": null,
      "outputs": [
        {
          "output_type": "stream",
          "name": "stdout",
          "text": [
            "Dataset Info:\n",
            "<class 'pandas.core.frame.DataFrame'>\n",
            "RangeIndex: 5572 entries, 0 to 5571\n",
            "Data columns (total 2 columns):\n",
            " #   Column  Non-Null Count  Dtype \n",
            "---  ------  --------------  ----- \n",
            " 0   label   5572 non-null   int64 \n",
            " 1   text    5572 non-null   object\n",
            "dtypes: int64(1), object(1)\n",
            "memory usage: 87.2+ KB\n",
            "None\n",
            "\n",
            "Class Distribution:\n",
            "0    4825\n",
            "1     747\n",
            "Name: label, dtype: int64\n"
          ]
        },
        {
          "output_type": "display_data",
          "data": {
            "text/plain": [
              "<Figure size 600x600 with 1 Axes>"
            ],
            "image/png": "[encoded data removed]"
          },
          "metadata": {}
        },
        {
          "output_type": "stream",
          "name": "stdout",
          "text": [
            "\n",
            "Sample Text Messages:\n",
            "0    Go until jurong point, crazy.. Available only ...\n",
            "1                        Ok lar... Joking wif u oni...\n",
            "2    Free entry in 2 a wkly comp to win FA Cup fina...\n",
            "3    U dun say so early hor... U c already then say...\n",
            "4    Nah I don't think he goes to usf, he lives aro...\n",
            "Name: text, dtype: object\n"
          ]
        },
        {
          "output_type": "display_data",
          "data": {
            "text/plain": [
              "<Figure size 800x600 with 1 Axes>"
            ],
            "image/png": "[encoded data removed]"
          },
          "metadata": {}
        }
      ]
    },
    {
      "cell_type": "markdown",
      "source": [
        "# **Train Naive Bayes Classifier for Raw Data**"
      ],
      "metadata": {
        "id": "z2LRb236UU3y"
      }
    },
    {
      "cell_type": "code",
      "source": [
        "# Train Naive Bayes classifier on the sparse features\n",
        "naive_bayes_classifier = MultinomialNB()\n",
        "naive_bayes_classifier.fit(X_train_counts, y_train)\n",
        "\n",
        "# Predict using Naive Bayes for training and test data\n",
        "naive_bayes_train_predictions = naive_bayes_classifier.predict(X_train_counts)\n",
        "naive_bayes_test_predictions = naive_bayes_classifier.predict(X_test_counts)\n",
        "\n",
        "# Calculate accuracy for Naive Bayes\n",
        "accuracy_nb_train = accuracy_score(y_train, naive_bayes_train_predictions)\n",
        "accuracy_nb_test = accuracy_score(y_test, naive_bayes_test_predictions)\n",
        "\n",
        "print(\"Naive Bayes Training Accuracy:\", accuracy_nb_train)\n",
        "print(\"Naive Bayes Test Accuracy:\", accuracy_nb_test)"
      ],
      "metadata": {
        "id": "V_CFTsvqrA-T",
        "colab": {
          "base_uri": "https://localhost:8080/"
        },
        "outputId": "078f406e-50df-4833-8b7a-6c53e1a8a941"
      },
      "execution_count": null,
      "outputs": [
        {
          "output_type": "stream",
          "name": "stdout",
          "text": [
            "Naive Bayes Training Accuracy: 0.9946152120260264\n",
            "Naive Bayes Test Accuracy: 0.9838565022421525\n"
          ]
        }
      ]
    },
    {
      "cell_type": "markdown",
      "source": [
        "# **Train Decision Tree Classifier for Raw Data**"
      ],
      "metadata": {
        "id": "dkYIZq7_-wX3"
      }
    },
    {
      "cell_type": "code",
      "source": [
        "# Run Decision Tree Classifier on the enriched dataset\n",
        "decision_tree_classifier = DecisionTreeClassifier(random_state=42)\n",
        "decision_tree_classifier.fit(X_train_counts, y_train)\n",
        "\n",
        "# Predict using Decision Tree for the enriched dataset\n",
        "decision_tree_train_predictions = decision_tree_classifier.predict(X_train_counts)\n",
        "decision_tree_test_predictions = decision_tree_classifier.predict(X_test_counts)\n",
        "\n",
        "# Calculate accuracy for Decision Tree on the enriched dataset\n",
        "accuracy_decision_tree_train = accuracy_score(y_train, decision_tree_train_predictions)\n",
        "accuracy_decision_tree_test = accuracy_score(y_test, decision_tree_test_predictions)\n",
        "\n",
        "print(\"Decision Tree Training Accuracy:\", accuracy_decision_tree_train)\n",
        "print(\"Decision Tree Test Accuracy:\", accuracy_decision_tree_test)"
      ],
      "metadata": {
        "colab": {
          "base_uri": "https://localhost:8080/"
        },
        "id": "z5h19_Mq-9Ok",
        "outputId": "925846ee-a122-42d0-c827-b41a295654a3"
      },
      "execution_count": null,
      "outputs": [
        {
          "output_type": "stream",
          "name": "stdout",
          "text": [
            "Decision Tree Training Accuracy: 1.0\n",
            "Decision Tree Test Accuracy: 0.9713004484304932\n"
          ]
        }
      ]
    },
    {
      "cell_type": "markdown",
      "source": [
        "# **Train Random Forest Classifier for Raw Data**"
      ],
      "metadata": {
        "id": "3GeGNf_4BIno"
      }
    },
    {
      "cell_type": "code",
      "source": [
        "# Train Random Forest on the enriched dataset\n",
        "random_forest_classifier = RandomForestClassifier(n_estimators=100, random_state=42)\n",
        "random_forest_classifier.fit(X_train_counts, y_train)\n",
        "\n",
        "# Predict using the Random Forest model\n",
        "random_forest_train_predictions = random_forest_classifier.predict(X_train_counts)\n",
        "random_forest_test_predictions = random_forest_classifier.predict(X_test_counts)\n",
        "\n",
        "# Calculate accuracy for Random Forest\n",
        "accuracy_rf_train = accuracy_score(y_train, random_forest_train_predictions)\n",
        "accuracy_rf_test = accuracy_score(y_test, random_forest_test_predictions)\n",
        "\n",
        "print(\"Random Forest Training Accuracy:\", accuracy_rf_train)\n",
        "print(\"Random Forest Test Accuracy:\", accuracy_rf_test)"
      ],
      "metadata": {
        "colab": {
          "base_uri": "https://localhost:8080/"
        },
        "id": "Gla_QkAfBI_3",
        "outputId": "b5652dad-7d7d-4ee9-becb-cb92acd948ac"
      },
      "execution_count": null,
      "outputs": [
        {
          "output_type": "stream",
          "name": "stdout",
          "text": [
            "Random Forest Training Accuracy: 1.0\n",
            "Random Forest Test Accuracy: 0.9766816143497757\n"
          ]
        }
      ]
    },
    {
      "cell_type": "markdown",
      "source": [
        "# **Train Ensemble Classifier for Raw Data**"
      ],
      "metadata": {
        "id": "WmoRpb4yAKTr"
      }
    },
    {
      "cell_type": "code",
      "source": [
        "# Combine predictions using weighted averaging for not enriched dataset\n",
        "weight_naive_bayes = 0.3\n",
        "weight_random_forest = 0.7\n",
        "\n",
        "# Predict probabilities using Naive Bayes for training and test data\n",
        "naive_bayes_train_probabilities = naive_bayes_classifier.predict_proba(X_train_counts)\n",
        "naive_bayes_test_probabilities = naive_bayes_classifier.predict_proba(X_test_counts)\n",
        "\n",
        "# Extract probabilities for the positive class (spam)\n",
        "naive_bayes_train_spam_prob = naive_bayes_train_probabilities[:, 1]\n",
        "naive_bayes_test_spam_prob = naive_bayes_test_probabilities[:, 1]\n",
        "\n",
        "# Predict probabilities using Random Forest for training and test data\n",
        "random_forest_train_probabilities = random_forest_classifier.predict_proba(X_train_counts)\n",
        "random_forest_test_probabilities = random_forest_classifier.predict_proba(X_test_counts)\n",
        "\n",
        "# Extract probabilities for the positive class (spam)\n",
        "random_forest_train_spam_prob = random_forest_train_probabilities[:, 1]\n",
        "random_forest_test_spam_prob = random_forest_test_probabilities[:, 1]\n",
        "\n",
        "# Ensemble predictions for training data\n",
        "ensemble_train_spam_prob = (weight_naive_bayes * naive_bayes_train_spam_prob + weight_random_forest * random_forest_train_spam_prob)\n",
        "\n",
        "# Ensemble predictions for test data\n",
        "ensemble_test_spam_prob = (weight_naive_bayes * naive_bayes_test_spam_prob + weight_random_forest * random_forest_test_spam_prob)\n",
        "\n",
        "# Threshold probabilities to get binary predictions (0 or 1)\n",
        "threshold = 0.5\n",
        "ensemble_train_predictions = (ensemble_train_spam_prob > threshold).astype(int)\n",
        "ensemble_test_predictions = (ensemble_test_spam_prob > threshold).astype(int)\n",
        "\n",
        "# Calculate accuracy for the ensemble model\n",
        "accuracy_ensemble_train = accuracy_score(y_train, ensemble_train_predictions)\n",
        "accuracy_ensemble_test = accuracy_score(y_test, ensemble_test_predictions)\n",
        "\n",
        "print(\"Ensemble Training Accuracy:\", accuracy_ensemble_train)\n",
        "print(\"Ensemble Test Accuracy:\", accuracy_ensemble_test)"
      ],
      "metadata": {
        "colab": {
          "base_uri": "https://localhost:8080/"
        },
        "id": "buKrW6bhAKvk",
        "outputId": "6c3c3162-e4e7-486d-9660-4a0ec8095090"
      },
      "execution_count": null,
      "outputs": [
        {
          "output_type": "stream",
          "name": "stdout",
          "text": [
            "Ensemble Training Accuracy: 0.9982050706753421\n",
            "Ensemble Test Accuracy: 0.9856502242152466\n"
          ]
        }
      ]
    },
    {
      "cell_type": "markdown",
      "source": [
        "# **Extract Naive Bayes Probabilities and Integrate with Features**"
      ],
      "metadata": {
        "id": "ocPKGY4bUjvM"
      }
    },
    {
      "cell_type": "code",
      "source": [
        "# Get class probabilities predicted by Naive Bayes\n",
        "naive_bayes_probabilities = naive_bayes_classifier.predict_proba(X_train_counts)\n",
        "\n",
        "# Add Naive Bayes probabilities as new features to the original dataset\n",
        "X_train_enriched = np.hstack((X_train_counts.toarray(), naive_bayes_probabilities))\n",
        "\n",
        "# Transform test data and add Naive Bayes probabilities as features\n",
        "X_test_enriched = np.hstack((X_test_counts.toarray(), naive_bayes_classifier.predict_proba(X_test_counts)))"
      ],
      "metadata": {
        "id": "05eGFfkVrF06"
      },
      "execution_count": null,
      "outputs": []
    },
    {
      "cell_type": "markdown",
      "source": [
        "# **Naive Bayes Classifier on the enriched dataset**"
      ],
      "metadata": {
        "id": "k9VvTdls7PNa"
      }
    },
    {
      "cell_type": "code",
      "source": [
        "# Run Naive Bayes Classifier on the enriched dataset\n",
        "naive_bayes_enriched = MultinomialNB()\n",
        "naive_bayes_enriched.fit(X_train_enriched, y_train)\n",
        "\n",
        "# Predict using Naive Bayes for the enriched dataset\n",
        "naive_bayes_train_predictions_enriched = naive_bayes_enriched.predict(X_train_enriched)\n",
        "naive_bayes_test_predictions_enriched = naive_bayes_enriched.predict(X_test_enriched)\n",
        "\n",
        "# Calculate accuracy for Naive Bayes on the enriched dataset\n",
        "accuracy_nb_train_enriched = accuracy_score(y_train, naive_bayes_train_predictions_enriched)\n",
        "accuracy_nb_test_enriched = accuracy_score(y_test, naive_bayes_test_predictions_enriched)\n",
        "\n",
        "print(\"Naive Bayes Training Accuracy (Enriched Dataset):\", accuracy_nb_train_enriched)\n",
        "print(\"Naive Bayes Test Accuracy (Enriched Dataset):\", accuracy_nb_test_enriched)"
      ],
      "metadata": {
        "colab": {
          "base_uri": "https://localhost:8080/"
        },
        "id": "lSH-rvEz7OhE",
        "outputId": "12a87788-c010-4faf-dc39-f07886078973"
      },
      "execution_count": null,
      "outputs": [
        {
          "output_type": "stream",
          "name": "stdout",
          "text": [
            "Naive Bayes Training Accuracy (Enriched Dataset): 0.9957370428539376\n",
            "Naive Bayes Test Accuracy (Enriched Dataset): 0.9856502242152466\n"
          ]
        }
      ]
    },
    {
      "cell_type": "markdown",
      "source": [
        "# **Decision Tree Classifier on the enriched dataset**"
      ],
      "metadata": {
        "id": "XKwXQq6q7Wv2"
      }
    },
    {
      "cell_type": "code",
      "source": [
        "# Run Decision Tree Classifier on the enriched dataset\n",
        "decision_tree_classifier_enriched = DecisionTreeClassifier(random_state=42)\n",
        "decision_tree_classifier_enriched.fit(X_train_enriched, y_train)\n",
        "\n",
        "# Predict using Decision Tree for the enriched dataset\n",
        "decision_tree_train_predictions_enriched = decision_tree_classifier_enriched.predict(X_train_enriched)\n",
        "decision_tree_test_predictions_enriched = decision_tree_classifier_enriched.predict(X_test_enriched)\n",
        "\n",
        "# Calculate accuracy for Decision Tree on the enriched dataset\n",
        "accuracy_decision_tree_train_enriched = accuracy_score(y_train, decision_tree_train_predictions_enriched)\n",
        "accuracy_decision_tree_test_enriched = accuracy_score(y_test, decision_tree_test_predictions_enriched)\n",
        "\n",
        "print(\"Decision Tree Training Accuracy (Enriched Dataset):\", accuracy_decision_tree_train_enriched)\n",
        "print(\"Decision Tree Test Accuracy (Enriched Dataset):\", accuracy_decision_tree_test_enriched)"
      ],
      "metadata": {
        "colab": {
          "base_uri": "https://localhost:8080/"
        },
        "id": "Fo8fp6W37XME",
        "outputId": "e701123b-2eb4-4f92-b966-b3a23acb354e"
      },
      "execution_count": null,
      "outputs": [
        {
          "output_type": "stream",
          "name": "stdout",
          "text": [
            "Decision Tree Training Accuracy (Enriched Dataset): 1.0\n",
            "Decision Tree Test Accuracy (Enriched Dataset): 0.9847533632286996\n"
          ]
        }
      ]
    },
    {
      "cell_type": "markdown",
      "source": [
        "# **Train Random Forest Classifier on Enriched Data**"
      ],
      "metadata": {
        "id": "WkXhgkzjWVTN"
      }
    },
    {
      "cell_type": "code",
      "source": [
        "# Train Random Forest on the enriched dataset\n",
        "random_forest_classifier = RandomForestClassifier(n_estimators=100, random_state=42)\n",
        "random_forest_classifier.fit(X_train_enriched, y_train)\n",
        "\n",
        "# Predict using the Random Forest model\n",
        "random_forest_train_predictions = random_forest_classifier.predict(X_train_enriched)\n",
        "random_forest_test_predictions = random_forest_classifier.predict(X_test_enriched)\n",
        "\n",
        "# Calculate accuracy for Random Forest\n",
        "accuracy_rf_train = accuracy_score(y_train, random_forest_train_predictions)\n",
        "accuracy_rf_test = accuracy_score(y_test, random_forest_test_predictions)\n",
        "\n",
        "print(\"Random Forest Training Accuracy:\", accuracy_rf_train)\n",
        "print(\"Random Forest Test Accuracy:\", accuracy_rf_test)"
      ],
      "metadata": {
        "id": "S1uo4mXMtZM_",
        "colab": {
          "base_uri": "https://localhost:8080/"
        },
        "outputId": "8d9bdbf5-68c8-42ce-b881-fc12276ccc1e"
      },
      "execution_count": null,
      "outputs": [
        {
          "output_type": "stream",
          "name": "stdout",
          "text": [
            "Random Forest Training Accuracy: 1.0\n",
            "Random Forest Test Accuracy: 0.9865470852017937\n"
          ]
        }
      ]
    },
    {
      "cell_type": "markdown",
      "source": [
        "# **Ensemble the Models and Make Predictions**"
      ],
      "metadata": {
        "id": "1hbFhdbVWb1v"
      }
    },
    {
      "cell_type": "code",
      "source": [
        "# Predict probabilities using Naive Bayes for training and test data\n",
        "naive_bayes_train_probabilities = naive_bayes_classifier.predict_proba(X_train_counts)\n",
        "naive_bayes_test_probabilities = naive_bayes_classifier.predict_proba(X_test_counts)\n",
        "\n",
        "# Extract probabilities for the positive class (spam)\n",
        "naive_bayes_train_spam_prob = naive_bayes_train_probabilities[:, 1]\n",
        "naive_bayes_test_spam_prob = naive_bayes_test_probabilities[:, 1]\n",
        "\n",
        "# Predict probabilities using Random Forest for training and test data\n",
        "random_forest_train_probabilities = random_forest_classifier.predict_proba(X_train_enriched)\n",
        "random_forest_test_probabilities = random_forest_classifier.predict_proba(X_test_enriched)\n",
        "\n",
        "# Extract probabilities for the positive class (spam)\n",
        "random_forest_train_spam_prob = random_forest_train_probabilities[:, 1]\n",
        "random_forest_test_spam_prob = random_forest_test_probabilities[:, 1]\n",
        "\n",
        "# Combine predictions using weighted averaging\n",
        "weight_naive_bayes = 0.3\n",
        "weight_random_forest = 0.7\n",
        "\n",
        "# Ensemble predictions for training data\n",
        "ensemble_train_spam_prob = (weight_naive_bayes * naive_bayes_train_spam_prob + weight_random_forest * random_forest_train_spam_prob)\n",
        "\n",
        "# Ensemble predictions for test data\n",
        "ensemble_test_spam_prob = (weight_naive_bayes * naive_bayes_test_spam_prob + weight_random_forest * random_forest_test_spam_prob)\n",
        "\n",
        "# Threshold probabilities to get binary predictions (0 or 1)\n",
        "threshold = 0.5\n",
        "ensemble_train_predictions = (ensemble_train_spam_prob > threshold).astype(int)\n",
        "ensemble_test_predictions = (ensemble_test_spam_prob > threshold).astype(int)\n",
        "\n",
        "# Calculate accuracy for the ensemble model\n",
        "accuracy_ensemble_train = accuracy_score(y_train, ensemble_train_predictions)\n",
        "accuracy_ensemble_test = accuracy_score(y_test, ensemble_test_predictions)\n",
        "\n",
        "print(\"Ensemble Training Accuracy:\", accuracy_ensemble_train)\n",
        "print(\"Ensemble Test Accuracy:\", accuracy_ensemble_test)"
      ],
      "metadata": {
        "colab": {
          "base_uri": "https://localhost:8080/"
        },
        "id": "3u2Jg_ldteLa",
        "outputId": "96efa344-ed59-448c-ba49-c2790d115379"
      },
      "execution_count": null,
      "outputs": [
        {
          "output_type": "stream",
          "name": "stdout",
          "text": [
            "Ensemble Training Accuracy: 0.99798070450976\n",
            "Ensemble Test Accuracy: 0.9874439461883409\n"
          ]
        }
      ]
    },
    {
      "cell_type": "markdown",
      "source": [
        "# **Confusion Matrix**\n",
        "Summarizes the performance of a machine learning model on a set of test data."
      ],
      "metadata": {
        "id": "ANCv6SQAwyOx"
      }
    },
    {
      "cell_type": "code",
      "source": [
        "# Function to plot a confusion matrix heatmap\n",
        "def plot_confusion_matrix_heatmap(y_true, y_pred, labels):\n",
        "    cm = confusion_matrix(y_true, y_pred)\n",
        "    ax = plt.axes()\n",
        "    sns.heatmap(cm, annot=True, fmt='d', cmap='Blues', xticklabels=labels, yticklabels=labels, ax=ax)\n",
        "    ax.set_xlabel('Predicted')\n",
        "    ax.set_ylabel('Actual')\n",
        "    plt.show()\n",
        "\n",
        "# Usage example for Naive Bayes Classifier\n",
        "print(\"Confusion Matrix for Naive Bayes Classifier:\")\n",
        "plot_confusion_matrix_heatmap(y_test, naive_bayes_test_predictions_enriched, labels=[\"Not Spam\", \"Spam\"])\n",
        "\n",
        "# Usage example for Decision Tree Classifier\n",
        "print(\"Confusion Matrix for Decision Tree Classifier:\")\n",
        "plot_confusion_matrix_heatmap(y_test, decision_tree_test_predictions_enriched, labels=[\"Not Spam\", \"Spam\"])\n",
        "\n",
        "# Usage example for Random Forest Classifier\n",
        "print(\"Confusion Matrix for Random Forest Classifier:\")\n",
        "plot_confusion_matrix_heatmap(y_test, random_forest_test_predictions, labels=[\"Not Spam\", \"Spam\"])\n",
        "\n",
        "# Usage example for Ensemble Learning Classifier\n",
        "print(\"Confusion Matrix for Ensemble Learning Classifier:\")\n",
        "plot_confusion_matrix_heatmap(y_test, ensemble_test_predictions, labels=[\"Not Spam\", \"Spam\"])"
      ],
      "metadata": {
        "colab": {
          "base_uri": "https://localhost:8080/",
          "height": 1000
        },
        "id": "a4S6n6608ffY",
        "outputId": "1c8a0a0d-2d83-4389-90b7-76b1a219bc67"
      },
      "execution_count": null,
      "outputs": [
        {
          "output_type": "stream",
          "name": "stdout",
          "text": [
            "Confusion Matrix for Naive Bayes Classifier:\n"
          ]
        },
        {
          "output_type": "display_data",
          "data": {
            "text/plain": [
              "<Figure size 640x480 with 2 Axes>"
            ],
            "image/png": "[encoded data removed]"
          },
          "metadata": {}
        },
        {
          "output_type": "stream",
          "name": "stdout",
          "text": [
            "Confusion Matrix for Decision Tree Classifier:\n"
          ]
        },
        {
          "output_type": "display_data",
          "data": {
            "text/plain": [
              "<Figure size 640x480 with 2 Axes>"
            ],
            "image/png": "[encoded data removed]"
          },
          "metadata": {}
        },
        {
          "output_type": "stream",
          "name": "stdout",
          "text": [
            "Confusion Matrix for Random Forest Classifier:\n"
          ]
        },
        {
          "output_type": "display_data",
          "data": {
            "text/plain": [
              "<Figure size 640x480 with 2 Axes>"
            ],
            "image/png": "[encoded data removed]"
          },
          "metadata": {}
        },
        {
          "output_type": "stream",
          "name": "stdout",
          "text": [
            "Confusion Matrix for Ensemble Learning Classifier:\n"
          ]
        },
        {
          "output_type": "display_data",
          "data": {
            "text/plain": [
              "<Figure size 640x480 with 2 Axes>"
            ],
            "image/png": "[encoded data removed]"
          },
          "metadata": {}
        }
      ]
    },
    {
      "cell_type": "markdown",
      "source": [
        "# **Classification Report**\n",
        "Summary of different evaluation metrics like precision, recall, F1-score, and support for each class."
      ],
      "metadata": {
        "id": "NpOdDGeV0Ttm"
      }
    },
    {
      "cell_type": "code",
      "source": [
        "print(\"Classification Report (Naive Bayes Classifier):\")\n",
        "print(classification_report(y_test, naive_bayes_test_predictions_enriched))\n",
        "\n",
        "print(\"Classification Report (Decision Tree Classifier):\")\n",
        "print(classification_report(y_test, decision_tree_test_predictions_enriched))\n",
        "\n",
        "print(\"Classification Report (Random Forest Classifier):\")\n",
        "print(classification_report(y_test, random_forest_test_predictions))\n",
        "\n",
        "print(\"Classification Report (Ensemble Learning Classifier):\")\n",
        "print(classification_report(y_test, ensemble_test_predictions))"
      ],
      "metadata": {
        "colab": {
          "base_uri": "https://localhost:8080/"
        },
        "id": "-M0Tu8WV0XYm",
        "outputId": "2a2f6206-5668-4620-8439-e9c2664d1437"
      },
      "execution_count": null,
      "outputs": [
        {
          "output_type": "stream",
          "name": "stdout",
          "text": [
            "Classification Report (Naive Bayes Classifier):\n",
            "              precision    recall  f1-score   support\n",
            "\n",
            "           0       0.99      1.00      0.99       965\n",
            "           1       0.97      0.92      0.95       150\n",
            "\n",
            "    accuracy                           0.99      1115\n",
            "   macro avg       0.98      0.96      0.97      1115\n",
            "weighted avg       0.99      0.99      0.99      1115\n",
            "\n",
            "Classification Report (Decision Tree Classifier):\n",
            "              precision    recall  f1-score   support\n",
            "\n",
            "           0       0.98      1.00      0.99       965\n",
            "           1       0.99      0.90      0.94       150\n",
            "\n",
            "    accuracy                           0.98      1115\n",
            "   macro avg       0.99      0.95      0.97      1115\n",
            "weighted avg       0.98      0.98      0.98      1115\n",
            "\n",
            "Classification Report (Random Forest Classifier):\n",
            "              precision    recall  f1-score   support\n",
            "\n",
            "           0       0.99      1.00      0.99       965\n",
            "           1       0.99      0.91      0.95       150\n",
            "\n",
            "    accuracy                           0.99      1115\n",
            "   macro avg       0.99      0.96      0.97      1115\n",
            "weighted avg       0.99      0.99      0.99      1115\n",
            "\n",
            "Classification Report (Ensemble Learning Classifier):\n",
            "              precision    recall  f1-score   support\n",
            "\n",
            "           0       0.99      1.00      0.99       965\n",
            "           1       0.99      0.92      0.95       150\n",
            "\n",
            "    accuracy                           0.99      1115\n",
            "   macro avg       0.99      0.96      0.97      1115\n",
            "weighted avg       0.99      0.99      0.99      1115\n",
            "\n"
          ]
        }
      ]
    },
    {
      "cell_type": "markdown",
      "source": [
        "# **10-fold cross validation**"
      ],
      "metadata": {
        "id": "8ZwPGsRTYFiZ"
      }
    },
    {
      "cell_type": "code",
      "source": [
        "# Concatenate original features and Naive Bayes probabilities\n",
        "X_enriched = np.hstack((X_train_counts.toarray(), naive_bayes_probabilities))\n",
        "\n",
        "# Create Naive Bayes and Random Forest classifiers\n",
        "naive_bayes_classifier = MultinomialNB()\n",
        "random_forest_classifier = RandomForestClassifier(n_estimators=100, random_state=42)\n",
        "\n",
        "# Fit classifiers on original sparse features\n",
        "naive_bayes_classifier.fit(X_train_counts, y_train)\n",
        "random_forest_classifier.fit(X_train_counts, y_train)\n",
        "\n",
        "# Get class probabilities predicted by Naive Bayes\n",
        "naive_bayes_probabilities = naive_bayes_classifier.predict_proba(X_train_counts)\n",
        "\n",
        "# Extract probabilities for the positive class (spam)\n",
        "naive_bayes_train_spam_prob = naive_bayes_probabilities[:, 1]\n",
        "random_forest_train_spam_prob = random_forest_classifier.predict_proba(X_train_counts)[:, 1]\n",
        "\n",
        "# Combine predictions using weighted averaging for not enriched dataset\n",
        "weight_naive_bayes = 0.3\n",
        "weight_random_forest = 0.7\n",
        "\n",
        "# Ensemble predictions for training data\n",
        "ensemble_train_spam_prob = (weight_naive_bayes * naive_bayes_train_spam_prob +\n",
        "                            weight_random_forest * random_forest_train_spam_prob)\n",
        "\n",
        "# Threshold probabilities to get binary predictions (0 or 1)\n",
        "threshold = 0.5\n",
        "ensemble_train_predictions = (ensemble_train_spam_prob > threshold).astype(int)\n",
        "\n",
        "# Create a VotingClassifier with Naive Bayes and Random Forest as estimators\n",
        "ensemble_classifier = VotingClassifier(estimators=[\n",
        "    ('naive_bayes', naive_bayes_classifier),\n",
        "    ('random_forest', random_forest_classifier)],\n",
        "    voting='soft', weights=[weight_naive_bayes, weight_random_forest])\n",
        "\n",
        "# Fit the ensemble classifier on the enriched dataset\n",
        "ensemble_classifier.fit(X_enriched, y_train)\n",
        "\n",
        "# Perform 10-fold cross-validation\n",
        "kf = KFold(n_splits=10, random_state=42, shuffle=True)\n",
        "\n",
        "# Naive Bayes Classifier\n",
        "nb_cv_scores = cross_val_score(naive_bayes_classifier, X_train_counts, y_train, cv=kf, scoring='accuracy')\n",
        "print(\"Naive Bayes Cross-Validation Mean Accuracy:\", nb_cv_scores.mean())\n",
        "\n",
        "# Decision Tree Classifier\n",
        "dt_cv_scores = cross_val_score(decision_tree_classifier, X_train_counts, y_train, cv=kf, scoring='accuracy')\n",
        "print(\"Decision Tree Cross-Validation Mean Accuracy:\", dt_cv_scores.mean())\n",
        "\n",
        "# Random Forest Classifier\n",
        "rf_cv_scores = cross_val_score(random_forest_classifier, X_train_counts, y_train, cv=kf, scoring='accuracy')\n",
        "print(\"Random Forest Cross-Validation Mean Accuracy:\", rf_cv_scores.mean())\n",
        "\n",
        "# Ensemble Classifier\n",
        "ensemble_cv_scores = cross_val_score(ensemble_classifier, X_enriched, y_train, cv=kf, scoring='accuracy')\n",
        "print(\"Ensemble Cross-Validation Mean Accuracy:\", ensemble_cv_scores.mean())"
      ],
      "metadata": {
        "colab": {
          "base_uri": "https://localhost:8080/"
        },
        "id": "q12w5ywQYJ_9",
        "outputId": "cd378e76-e234-4e4b-99c8-066f77318d3a"
      },
      "execution_count": null,
      "outputs": [
        {
          "output_type": "stream",
          "name": "stdout",
          "text": [
            "Naive Bayes Cross-Validation Mean Accuracy: 0.9798070237315463\n",
            "Decision Tree Cross-Validation Mean Accuracy: 0.9690361263667053\n",
            "Random Forest Cross-Validation Mean Accuracy: 0.9759898221393662\n",
            "Ensemble Cross-Validation Mean Accuracy: 0.9946158109537965\n"
          ]
        }
      ]
    }
  ]
}